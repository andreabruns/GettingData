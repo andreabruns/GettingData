{
 "cells": [
  {
   "cell_type": "markdown",
   "metadata": {},
   "source": [
    "## 06 Using specialized packages to grab data\n",
    "Previously we saw how 3rd party packages vastly increase what Python can do quickly and fairly easily. Here we see that this applies to downloading data as well; someone has written a Python package to download Census data quite easily.\n",
    "\n",
    "First we need to install the packages, and then we'll use them to grab some data. One note, however, is that to use these packages you need to sign up for a [free] Census API key. You can do this here: https://api.census.gov/data/key_signup.html\n",
    "\n",
    "Documentation for these packages is here: \n",
    "https://pypi.python.org/pypi/census\n",
    "https://github.com/datamade/census\n",
    "\n",
    "We'll discuss APIs, such as ths Census API next..."
   ]
  },
  {
   "cell_type": "code",
   "execution_count": 3,
   "metadata": {},
   "outputs": [],
   "source": [
    "#Import the 'census' package; install if needed\n",
    "try:\n",
    "    from census import Census\n",
    "except:\n",
    "    !pip install census\n",
    "    from census import Census"
   ]
  },
  {
   "cell_type": "code",
   "execution_count": 5,
   "metadata": {},
   "outputs": [
    {
     "name": "stdout",
     "output_type": "stream",
     "text": [
      "Collecting plotnine\n",
      "  Downloading plotnine-0.10.1-py3-none-any.whl (1.2 MB)\n",
      "     ---------------------------------------- 1.2/1.2 MB 6.5 MB/s eta 0:00:00\n",
      "Requirement already satisfied: patsy>=0.5.1 in c:\\users\\apb54\\appdata\\local\\esri\\conda\\envs\\gis\\lib\\site-packages (from plotnine) (0.5.3)\n",
      "Requirement already satisfied: scipy>=1.5.0 in c:\\users\\apb54\\appdata\\local\\esri\\conda\\envs\\gis\\lib\\site-packages (from plotnine) (1.9.3)\n",
      "Requirement already satisfied: matplotlib>=3.5.0 in c:\\users\\apb54\\appdata\\local\\esri\\conda\\envs\\gis\\lib\\site-packages (from plotnine) (3.6.2)\n",
      "Requirement already satisfied: numpy>=1.19.0 in c:\\users\\apb54\\appdata\\local\\esri\\conda\\envs\\gis\\lib\\site-packages (from plotnine) (1.23.4)\n",
      "Requirement already satisfied: pandas>=1.3.5 in c:\\users\\apb54\\appdata\\local\\esri\\conda\\envs\\gis\\lib\\site-packages (from plotnine) (1.5.1)\n",
      "Requirement already satisfied: statsmodels>=0.13.2 in c:\\users\\apb54\\appdata\\local\\esri\\conda\\envs\\gis\\lib\\site-packages (from plotnine) (0.13.5)\n",
      "Collecting mizani>=0.8.1\n",
      "  Downloading mizani-0.8.1-py3-none-any.whl (64 kB)\n",
      "     ---------------------------------------- 64.7/64.7 kB 3.4 MB/s eta 0:00:00\n",
      "Requirement already satisfied: pillow>=6.2.0 in c:\\users\\apb54\\appdata\\local\\esri\\conda\\envs\\gis\\lib\\site-packages (from matplotlib>=3.5.0->plotnine) (9.2.0)\n",
      "Requirement already satisfied: python-dateutil>=2.7 in c:\\users\\apb54\\appdata\\local\\esri\\conda\\envs\\gis\\lib\\site-packages (from matplotlib>=3.5.0->plotnine) (2.8.2)\n",
      "Requirement already satisfied: fonttools>=4.22.0 in c:\\users\\apb54\\appdata\\local\\esri\\conda\\envs\\gis\\lib\\site-packages (from matplotlib>=3.5.0->plotnine) (4.38.0)\n",
      "Requirement already satisfied: contourpy>=1.0.1 in c:\\users\\apb54\\appdata\\local\\esri\\conda\\envs\\gis\\lib\\site-packages (from matplotlib>=3.5.0->plotnine) (1.0.6)\n",
      "Requirement already satisfied: cycler>=0.10 in c:\\users\\apb54\\appdata\\local\\esri\\conda\\envs\\gis\\lib\\site-packages (from matplotlib>=3.5.0->plotnine) (0.11.0)\n",
      "Requirement already satisfied: kiwisolver>=1.0.1 in c:\\users\\apb54\\appdata\\local\\esri\\conda\\envs\\gis\\lib\\site-packages (from matplotlib>=3.5.0->plotnine) (1.4.4)\n",
      "Requirement already satisfied: pyparsing>=2.2.1 in c:\\users\\apb54\\appdata\\local\\esri\\conda\\envs\\gis\\lib\\site-packages (from matplotlib>=3.5.0->plotnine) (3.0.9)\n",
      "Requirement already satisfied: packaging>=20.0 in c:\\users\\apb54\\appdata\\local\\esri\\conda\\envs\\gis\\lib\\site-packages (from matplotlib>=3.5.0->plotnine) (21.3)\n",
      "Collecting tzdata\n",
      "  Downloading tzdata-2022.7-py2.py3-none-any.whl (340 kB)\n",
      "     -------------------------------------- 340.1/340.1 kB 7.0 MB/s eta 0:00:00\n",
      "Collecting palettable\n",
      "  Downloading palettable-3.3.0-py2.py3-none-any.whl (111 kB)\n",
      "     -------------------------------------- 111.8/111.8 kB 6.4 MB/s eta 0:00:00\n",
      "Requirement already satisfied: pytz>=2020.1 in c:\\users\\apb54\\appdata\\local\\esri\\conda\\envs\\gis\\lib\\site-packages (from pandas>=1.3.5->plotnine) (2022.6)\n",
      "Requirement already satisfied: six in c:\\users\\apb54\\appdata\\local\\esri\\conda\\envs\\gis\\lib\\site-packages (from patsy>=0.5.1->plotnine) (1.16.0)\n",
      "Installing collected packages: palettable, tzdata, mizani, plotnine\n",
      "Successfully installed mizani-0.8.1 palettable-3.3.0 plotnine-0.10.1 tzdata-2022.7\n"
     ]
    }
   ],
   "source": [
    "#And finally, import pandas\n",
    "import pandas as pd\n",
    "try:\n",
    "    from plotnine import *\n",
    "except:\n",
    "    !pip install plotnine\n",
    "    from plotnine import *"
   ]
  },
  {
   "cell_type": "code",
   "execution_count": 6,
   "metadata": {},
   "outputs": [],
   "source": [
    "# Add your census key here:\n",
    "key = None"
   ]
  },
  {
   "cell_type": "code",
   "execution_count": 7,
   "metadata": {},
   "outputs": [],
   "source": [
    "# Create the connection to the Census API\n",
    "c = Census(key, year=2015)"
   ]
  },
  {
   "cell_type": "code",
   "execution_count": 8,
   "metadata": {},
   "outputs": [
    {
     "data": {
      "text/plain": [
       "NAME            object\n",
       "B19001_001E    float64\n",
       "state           object\n",
       "county          object\n",
       "tract           object\n",
       "dtype: object"
      ]
     },
     "execution_count": 8,
     "metadata": {},
     "output_type": "execute_result"
    }
   ],
   "source": [
    "variables = ('NAME', 'B19001_001E')\n",
    "params = {'for':'tract:*', 'in':'state:24'} #FIPS 24 is Maryland\n",
    "response = c.acs5.get(variables, params)\n",
    "response = pd.DataFrame(response)\n",
    "response.dtypes"
   ]
  },
  {
   "cell_type": "code",
   "execution_count": 11,
   "metadata": {},
   "outputs": [
    {
     "data": {
      "image/png": "[encoded data removed]",
      "text/plain": [
       "<Figure size 640x480 with 1 Axes>"
      ]
     },
     "metadata": {},
     "output_type": "display_data"
    },
    {
     "data": {
      "text/plain": [
       "<ggplot: (169667247825)>"
      ]
     },
     "execution_count": 11,
     "metadata": {},
     "output_type": "execute_result"
    }
   ],
   "source": [
    "#Convert variable to numeric value\n",
    "response[variables[1]] = pd.to_numeric(response[variables[1]])\n",
    "thePlot = ggplot(data=response)\n",
    "thePlot + geom_boxplot(aes(x = 'county', y = variables[1]))"
   ]
  },
  {
   "cell_type": "code",
   "execution_count": null,
   "metadata": {},
   "outputs": [],
   "source": []
  }
 ],
 "metadata": {
  "kernelspec": {
   "display_name": "Python 3 (ipykernel)",
   "language": "python",
   "name": "python3"
  },
  "language_info": {
   "codemirror_mode": {
    "name": "ipython",
    "version": 3
   },
   "file_extension": ".py",
   "mimetype": "text/x-python",
   "name": "python",
   "nbconvert_exporter": "python",
   "pygments_lexer": "ipython3",
   "version": "3.10.6"
  }
 },
 "nbformat": 4,
 "nbformat_minor": 2
}
